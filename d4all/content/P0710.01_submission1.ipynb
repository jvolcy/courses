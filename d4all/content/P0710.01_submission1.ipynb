{
 "cells": [
  {
   "cell_type": "markdown",
   "metadata": {
    "deletable": false,
    "editable": false
   },
   "source": [
    "<img src=\"../pix/ds4all_logo JN.png\"\n",
    "     style=\"float: right\" />\n",
    "     \n",
    "### P0710.01 - Kilometer Converter\n",
    "###### (Gaddis, Python, 3e)\n",
    "\n",
    "**Part A**<br>\n",
    "Write a program that asks the user to enter a distance in kilometers, and then converts that distance to miles.  The conversion formula is as follows:\n",
    "\n",
    "`Miles = Kilometers ✕ 0.6214`\n",
    "\n",
    "Your program should consist of two functions: a `main()` that prompts the user for input and a second function that does the conversion and prints the result.\n",
    "<br><br>\n",
    "\n",
    "**Part B**<br>\n",
    "Re-do part A.  This time, create a fruitful function that accepts the number of kilometers and returns the corresponding number of miles.  The `main()` function should print out the miles.  The conversion function should contain no print statements.\n"
   ]
  },
  {
   "cell_type": "code",
   "execution_count": 10,
   "metadata": {},
   "outputs": [
    {
     "name": "stdout",
     "output_type": "stream",
     "text": [
      "Enter # of kilometers: 5\n",
      "3.11\n"
     ]
    }
   ],
   "source": [
    "km = float(input('Enter # of kilometers: '))\n",
    "miles = round(km * 0.6214, 2)\n",
    "print(miles)"
   ]
  },
  {
   "cell_type": "code",
   "execution_count": 7,
   "metadata": {},
   "outputs": [
    {
     "data": {
      "text/plain": [
       "6213.999999999999"
      ]
     },
     "execution_count": 7,
     "metadata": {},
     "output_type": "execute_result"
    }
   ],
   "source": [
    "10000*.6214"
   ]
  },
  {
   "cell_type": "code",
   "execution_count": null,
   "metadata": {},
   "outputs": [],
   "source": []
  }
 ],
 "metadata": {
  "celltoolbar": "Edit Metadata",
  "kernelspec": {
   "display_name": "Python 3",
   "language": "python",
   "name": "python3"
  },
  "language_info": {
   "codemirror_mode": {
    "name": "ipython",
    "version": 3
   },
   "file_extension": ".py",
   "mimetype": "text/x-python",
   "name": "python",
   "nbconvert_exporter": "python",
   "pygments_lexer": "ipython3",
   "version": "3.6.8"
  }
 },
 "nbformat": 4,
 "nbformat_minor": 2
}
